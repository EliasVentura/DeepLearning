{
 "cells": [
  {
   "cell_type": "markdown",
   "metadata": {
    "id": "ITZuApL56Mny"
   },
   "source": [
    "IMAGENES AUTOENCODER\n",
    "\n",
    "By Elías Jesús Ventura-Molina\n",
    "\n",
    "Ejemplo obtenido de : [Origen ejemplo](https://blog.keras.io/building-autoencoders-in-keras.html)"
   ]
  },
  {
   "cell_type": "markdown",
   "metadata": {
    "id": "A4UBEHHVbXW2"
   },
   "source": [
    "# Introducción"
   ]
  },
  {
   "cell_type": "markdown",
   "metadata": {
    "id": "puaG9zIUbXVC"
   },
   "source": []
  },
  {
   "cell_type": "markdown",
   "metadata": {
    "id": "lzl5W3vbaJCJ"
   },
   "source": [
    "En este archivo se presenta dos ejemplos de autoenconder con imagenes. \n",
    "En el primer ejemplo se presenta un autoenconder básico, el cual, reconstruye su objetivo es reconstruir las imagenes. Este ejemplo esta diseñado para entender la estructura básica del autoenconder.\n",
    "El segundo ejemplo se presenta el autoencoder denoise; reconstrucción  de imgenes con ruido."
   ]
  },
  {
   "cell_type": "markdown",
   "metadata": {
    "id": "HUAO4jL1bTOS"
   },
   "source": [
    "# Autoenconder básico"
   ]
  },
  {
   "cell_type": "markdown",
   "metadata": {
    "id": "EK-qsDAGcxA3"
   },
   "source": [
    "Este ejemplo se trabaja con imagenes en un autoenconder; la salida es la reconstrucción de la entrada. Este autoenconder consiste de  una sola capa neuronal completamente conectada como codificador y una capa como decodificador.\n"
   ]
  },
  {
   "cell_type": "markdown",
   "metadata": {
    "id": "WXkD_0o6cw2u"
   },
   "source": [
    "## Preprocesamiento de los datos"
   ]
  },
  {
   "cell_type": "code",
   "execution_count": null,
   "metadata": {
    "id": "Nb3MgDx4Jkut"
   },
   "outputs": [],
   "source": [
    "# Librerias requeridas\n",
    "from keras.datasets import mnist\n",
    "import numpy as np\n",
    "\n",
    "# Se obiene los conjuntos de datos de entrenamieto y prueba\n",
    "(x_train, _), (x_test, _) = mnist.load_data()"
   ]
  },
  {
   "cell_type": "code",
   "execution_count": null,
   "metadata": {
    "colab": {
     "base_uri": "https://localhost:8080/"
    },
    "executionInfo": {
     "elapsed": 2064,
     "status": "ok",
     "timestamp": 1606849618358,
     "user": {
      "displayName": "Carlos Rolon",
      "photoUrl": "https://lh3.googleusercontent.com/a-/AOh14Gizmp3t6NRvUcjYwCq6hYy8NRrPqKvWT_cFnSV-5w=s64",
      "userId": "03396686547516602342"
     },
     "user_tz": 360
    },
    "id": "erdQM2C7Jwp7",
    "outputId": "03aca66e-479d-46dc-9a14-5ca86a92b2b5"
   },
   "outputs": [
    {
     "name": "stdout",
     "output_type": "stream",
     "text": [
      "Dimensiones del set de entrenamiento (60000, 784)\n",
      "Dimensiones del set de prueba (10000, 784)\n"
     ]
    }
   ],
   "source": [
    "# Normalización de todos los valores entre 0 y 1 \n",
    "x_train = x_train.astype('float32') / 255.\n",
    "x_test = x_test.astype('float32') / 255.\n",
    "\n",
    "# Aplanaremos las imágenes de 28x28 en vectores de tamaño 784\n",
    "x_train = x_train.reshape((len(x_train), np.prod(x_train.shape[1:])))\n",
    "x_test = x_test.reshape((len(x_test), np.prod(x_test.shape[1:])))\n",
    "\n",
    "#Se muestra las dimensiones finales de cada set\n",
    "print( \"Dimensiones del set de entrenamiento\" ,x_train.shape)\n",
    "print( \"Dimensiones del set de prueba\" ,  x_test.shape)"
   ]
  },
  {
   "cell_type": "markdown",
   "metadata": {
    "id": "b8S7F0Huenkk"
   },
   "source": [
    "## Diseño del modelo"
   ]
  },
  {
   "cell_type": "code",
   "execution_count": null,
   "metadata": {
    "id": "fIjxDsFmJeqM"
   },
   "outputs": [],
   "source": [
    "# Librerias requeridas\n",
    "import keras\n",
    "from keras import layers\n",
    "\n",
    "## CARACTERISTICAS DEL AUTOENCONDER \n",
    "\n",
    "# Es el tamaña del code ( la información despues de pasar por el coder )\n",
    "encoding_dim = 32  # 32 floats -> considerando un factor de compresion de 24.5, asumiendo una entrada de 784 floats\n",
    "\n",
    "# Tamaño de cada imagen\n",
    "input_img = keras.Input(shape=(784,))\n",
    "# \"encoded\" es la representacion del encoder. Se designa una capa\n",
    "encoded = layers.Dense(encoding_dim, activation='relu')(input_img)\n",
    "# \"decoded\" es la representacion del coder; reconstruye la entrada\n",
    "decoded = layers.Dense(784, activation='sigmoid')(encoded)\n",
    "\n",
    "# Se crea el modelo \n",
    "autoencoder = keras.Model(input_img, decoded)"
   ]
  },
  {
   "cell_type": "code",
   "execution_count": null,
   "metadata": {
    "id": "77KHLISRJgXS"
   },
   "outputs": [],
   "source": [
    "# Se crea el modelo un modelo de codificador independiente:\n",
    "encoder = keras.Model(input_img, encoded)"
   ]
  },
  {
   "cell_type": "code",
   "execution_count": null,
   "metadata": {
    "id": "I_p7MSMsJklf"
   },
   "outputs": [],
   "source": [
    "# Además del modelo de decodificador independiente\n",
    "\n",
    "# Se configura le entrada del encoder\n",
    "encoded_input = keras.Input(shape=(encoding_dim,))\n",
    "# Se obtiene la ultima capa del modelo del autoenconder\n",
    "decoder_layer = autoencoder.layers[-1]\n",
    "# Se crea el modelo del decoder\n",
    "decoder = keras.Model(encoded_input, decoder_layer(encoded_input))"
   ]
  },
  {
   "cell_type": "markdown",
   "metadata": {
    "id": "JtEuVkZijGw7"
   },
   "source": [
    "## Ejecución del modelo"
   ]
  },
  {
   "cell_type": "code",
   "execution_count": null,
   "metadata": {
    "id": "k-KCoy5HJkp8"
   },
   "outputs": [],
   "source": [
    "\n",
    "#Ahora entrenemos nuestro codificador automático para reconstruir dígitos MNIST.\n",
    "\n",
    "#Primero, configuraremos nuestro modelo para usar una pérdida de entropía cruzada binaria por píxel y el optimizador de Adam:\n",
    "\n",
    "autoencoder.compile(optimizer='adam', loss='binary_crossentropy')"
   ]
  },
  {
   "cell_type": "code",
   "execution_count": null,
   "metadata": {
    "colab": {
     "base_uri": "https://localhost:8080/"
    },
    "executionInfo": {
     "elapsed": 41655,
     "status": "ok",
     "timestamp": 1606849657978,
     "user": {
      "displayName": "Carlos Rolon",
      "photoUrl": "https://lh3.googleusercontent.com/a-/AOh14Gizmp3t6NRvUcjYwCq6hYy8NRrPqKvWT_cFnSV-5w=s64",
      "userId": "03396686547516602342"
     },
     "user_tz": 360
    },
    "id": "8A9KRmvwKNY6",
    "outputId": "a3b6607e-85bd-4bf9-84e3-b6bf7f7aaecf"
   },
   "outputs": [
    {
     "name": "stdout",
     "output_type": "stream",
     "text": [
      "Epoch 1/50\n",
      "235/235 [==============================] - 1s 4ms/step - loss: 0.2719 - val_loss: 0.1890\n",
      "Epoch 2/50\n",
      "235/235 [==============================] - 1s 3ms/step - loss: 0.1705 - val_loss: 0.1524\n",
      "Epoch 3/50\n",
      "235/235 [==============================] - 1s 3ms/step - loss: 0.1431 - val_loss: 0.1328\n",
      "Epoch 4/50\n",
      "235/235 [==============================] - 1s 3ms/step - loss: 0.1279 - val_loss: 0.1208\n",
      "Epoch 5/50\n",
      "235/235 [==============================] - 1s 3ms/step - loss: 0.1182 - val_loss: 0.1129\n",
      "Epoch 6/50\n",
      "235/235 [==============================] - 1s 3ms/step - loss: 0.1114 - val_loss: 0.1072\n",
      "Epoch 7/50\n",
      "235/235 [==============================] - 1s 3ms/step - loss: 0.1063 - val_loss: 0.1028\n",
      "Epoch 8/50\n",
      "235/235 [==============================] - 1s 3ms/step - loss: 0.1024 - val_loss: 0.0994\n",
      "Epoch 9/50\n",
      "235/235 [==============================] - 1s 3ms/step - loss: 0.0995 - val_loss: 0.0971\n",
      "Epoch 10/50\n",
      "235/235 [==============================] - 1s 3ms/step - loss: 0.0975 - val_loss: 0.0955\n",
      "Epoch 11/50\n",
      "235/235 [==============================] - 1s 3ms/step - loss: 0.0962 - val_loss: 0.0944\n",
      "Epoch 12/50\n",
      "235/235 [==============================] - 1s 3ms/step - loss: 0.0954 - val_loss: 0.0938\n",
      "Epoch 13/50\n",
      "235/235 [==============================] - 1s 3ms/step - loss: 0.0948 - val_loss: 0.0933\n",
      "Epoch 14/50\n",
      "235/235 [==============================] - 1s 3ms/step - loss: 0.0945 - val_loss: 0.0930\n",
      "Epoch 15/50\n",
      "235/235 [==============================] - 1s 3ms/step - loss: 0.0942 - val_loss: 0.0928\n",
      "Epoch 16/50\n",
      "235/235 [==============================] - 1s 3ms/step - loss: 0.0940 - val_loss: 0.0926\n",
      "Epoch 17/50\n",
      "235/235 [==============================] - 1s 3ms/step - loss: 0.0938 - val_loss: 0.0925\n",
      "Epoch 18/50\n",
      "235/235 [==============================] - 1s 3ms/step - loss: 0.0937 - val_loss: 0.0925\n",
      "Epoch 19/50\n",
      "235/235 [==============================] - 1s 3ms/step - loss: 0.0936 - val_loss: 0.0924\n",
      "Epoch 20/50\n",
      "235/235 [==============================] - 1s 3ms/step - loss: 0.0935 - val_loss: 0.0922\n",
      "Epoch 21/50\n",
      "235/235 [==============================] - 1s 3ms/step - loss: 0.0934 - val_loss: 0.0921\n",
      "Epoch 22/50\n",
      "235/235 [==============================] - 1s 3ms/step - loss: 0.0934 - val_loss: 0.0922\n",
      "Epoch 23/50\n",
      "235/235 [==============================] - 1s 3ms/step - loss: 0.0933 - val_loss: 0.0920\n",
      "Epoch 24/50\n",
      "235/235 [==============================] - 1s 3ms/step - loss: 0.0932 - val_loss: 0.0920\n",
      "Epoch 25/50\n",
      "235/235 [==============================] - 1s 3ms/step - loss: 0.0932 - val_loss: 0.0919\n",
      "Epoch 26/50\n",
      "235/235 [==============================] - 1s 3ms/step - loss: 0.0932 - val_loss: 0.0919\n",
      "Epoch 27/50\n",
      "235/235 [==============================] - 1s 3ms/step - loss: 0.0931 - val_loss: 0.0919\n",
      "Epoch 28/50\n",
      "235/235 [==============================] - 1s 3ms/step - loss: 0.0931 - val_loss: 0.0919\n",
      "Epoch 29/50\n",
      "235/235 [==============================] - 1s 3ms/step - loss: 0.0931 - val_loss: 0.0919\n",
      "Epoch 30/50\n",
      "235/235 [==============================] - 1s 3ms/step - loss: 0.0930 - val_loss: 0.0918\n",
      "Epoch 31/50\n",
      "235/235 [==============================] - 1s 3ms/step - loss: 0.0930 - val_loss: 0.0919\n",
      "Epoch 32/50\n",
      "235/235 [==============================] - 1s 3ms/step - loss: 0.0929 - val_loss: 0.0919\n",
      "Epoch 33/50\n",
      "235/235 [==============================] - 1s 3ms/step - loss: 0.0929 - val_loss: 0.0917\n",
      "Epoch 34/50\n",
      "235/235 [==============================] - 1s 3ms/step - loss: 0.0929 - val_loss: 0.0918\n",
      "Epoch 35/50\n",
      "235/235 [==============================] - 1s 3ms/step - loss: 0.0929 - val_loss: 0.0917\n",
      "Epoch 36/50\n",
      "235/235 [==============================] - 1s 3ms/step - loss: 0.0929 - val_loss: 0.0917\n",
      "Epoch 37/50\n",
      "235/235 [==============================] - 1s 3ms/step - loss: 0.0928 - val_loss: 0.0917\n",
      "Epoch 38/50\n",
      "235/235 [==============================] - 1s 3ms/step - loss: 0.0928 - val_loss: 0.0917\n",
      "Epoch 39/50\n",
      "235/235 [==============================] - 1s 3ms/step - loss: 0.0928 - val_loss: 0.0916\n",
      "Epoch 40/50\n",
      "235/235 [==============================] - 1s 3ms/step - loss: 0.0928 - val_loss: 0.0915\n",
      "Epoch 41/50\n",
      "235/235 [==============================] - 1s 3ms/step - loss: 0.0927 - val_loss: 0.0916\n",
      "Epoch 42/50\n",
      "235/235 [==============================] - 1s 3ms/step - loss: 0.0927 - val_loss: 0.0916\n",
      "Epoch 43/50\n",
      "235/235 [==============================] - 1s 3ms/step - loss: 0.0927 - val_loss: 0.0916\n",
      "Epoch 44/50\n",
      "235/235 [==============================] - 1s 3ms/step - loss: 0.0927 - val_loss: 0.0916\n",
      "Epoch 45/50\n",
      "235/235 [==============================] - 1s 3ms/step - loss: 0.0927 - val_loss: 0.0915\n",
      "Epoch 46/50\n",
      "235/235 [==============================] - 1s 3ms/step - loss: 0.0927 - val_loss: 0.0916\n",
      "Epoch 47/50\n",
      "235/235 [==============================] - 1s 3ms/step - loss: 0.0927 - val_loss: 0.0916\n",
      "Epoch 48/50\n",
      "235/235 [==============================] - 1s 3ms/step - loss: 0.0927 - val_loss: 0.0916\n",
      "Epoch 49/50\n",
      "235/235 [==============================] - 1s 3ms/step - loss: 0.0926 - val_loss: 0.0915\n",
      "Epoch 50/50\n",
      "235/235 [==============================] - 1s 3ms/step - loss: 0.0926 - val_loss: 0.0915\n"
     ]
    },
    {
     "data": {
      "text/plain": [
       "<tensorflow.python.keras.callbacks.History at 0x7f7b145dbfd0>"
      ]
     },
     "execution_count": 7,
     "metadata": {
      "tags": []
     },
     "output_type": "execute_result"
    }
   ],
   "source": [
    "#Ahora entrenemos nuestro codificador automático durante 50 épocas:\n",
    "autoencoder.fit(x_train, x_train,\n",
    "                epochs=50,\n",
    "                batch_size=256,\n",
    "                shuffle=True,\n",
    "                validation_data=(x_test, x_test))"
   ]
  },
  {
   "cell_type": "markdown",
   "metadata": {
    "id": "3J-iafgcjLLY"
   },
   "source": [
    "## Resultados"
   ]
  },
  {
   "cell_type": "code",
   "execution_count": null,
   "metadata": {
    "id": "hCJrPpCjJ0hy"
   },
   "outputs": [],
   "source": [
    "# Encode and decode alugunas imagenes digits\n",
    "encoded_imgs = encoder.predict(x_test)\n",
    "decoded_imgs = decoder.predict(encoded_imgs)"
   ]
  },
  {
   "cell_type": "code",
   "execution_count": null,
   "metadata": {
    "colab": {
     "base_uri": "https://localhost:8080/",
     "height": 236
    },
    "executionInfo": {
     "elapsed": 42911,
     "status": "ok",
     "timestamp": 1606849659257,
     "user": {
      "displayName": "Carlos Rolon",
      "photoUrl": "https://lh3.googleusercontent.com/a-/AOh14Gizmp3t6NRvUcjYwCq6hYy8NRrPqKvWT_cFnSV-5w=s64",
      "userId": "03396686547516602342"
     },
     "user_tz": 360
    },
    "id": "y8hR3BysJ3wQ",
    "outputId": "45deec28-4e1b-487a-99f5-343763bcbc41"
   },
   "outputs": [
    {
     "data": {
      "image/png": "[encoded data removed]",
      "text/plain": [
       "<Figure size 1440x288 with 20 Axes>"
      ]
     },
     "metadata": {
      "needs_background": "light",
      "tags": []
     },
     "output_type": "display_data"
    }
   ],
   "source": [
    "# Se utiliza la siguiente libreria para visualiar\n",
    "import matplotlib.pyplot as plt\n",
    "\n",
    "n = 10  # Cantidad de digitos a mostrar\n",
    "plt.figure(figsize=(20, 4))\n",
    "for i in range(n):\n",
    "    # Imagen original\n",
    "    ax = plt.subplot(2, n, i + 1)\n",
    "    plt.imshow(x_test[i].reshape(28, 28))\n",
    "    plt.gray()\n",
    "    ax.get_xaxis().set_visible(False)\n",
    "    ax.get_yaxis().set_visible(False)\n",
    "\n",
    "    # Reconstruccion de imagenes\n",
    "    ax = plt.subplot(2, n, i + 1 + n)\n",
    "    plt.imshow(decoded_imgs[i].reshape(28, 28))\n",
    "    plt.gray()\n",
    "    ax.get_xaxis().set_visible(False)\n",
    "    ax.get_yaxis().set_visible(False)\n",
    "plt.show()"
   ]
  },
  {
   "cell_type": "markdown",
   "metadata": {
    "id": "pcgdwZysKBU1"
   },
   "source": [
    "# Autoencoder denoise"
   ]
  },
  {
   "cell_type": "markdown",
   "metadata": {
    "id": "KSrvKZZqhycn"
   },
   "source": [
    "Se implementa autoenconder convolucional para eliminar ruido de imágenes. Es simple: entrenaremos el autoencoder para mapear imágenes de dígitos ruidosos para limpiar imágenes de dígitos."
   ]
  },
  {
   "cell_type": "markdown",
   "metadata": {
    "id": "kZAtifr-iNde"
   },
   "source": [
    "## Preprocesamiento de los datos"
   ]
  },
  {
   "cell_type": "code",
   "execution_count": null,
   "metadata": {
    "id": "DawevJJHKCXp"
   },
   "outputs": [],
   "source": [
    "#Librerias que se requieren\n",
    "from keras.datasets import mnist\n",
    "import numpy as np\n",
    "\n",
    "# Se obiene los conjuntos de datos de entrenamieto y prueba\n",
    "(x_train, _), (x_test, _) = mnist.load_data()\n",
    "\n",
    "# Normalización de todos los valores entre 0 y 1 \n",
    "x_train = x_train.astype('float32') / 255.\n",
    "x_test = x_test.astype('float32') / 255.\n",
    "\n",
    "# Aplanaremos las imágenes en matrices de 28x28 \n",
    "x_train = np.reshape(x_train, (len(x_train), 28, 28, 1))\n",
    "x_test = np.reshape(x_test, (len(x_test), 28, 28, 1))\n"
   ]
  },
  {
   "cell_type": "code",
   "execution_count": null,
   "metadata": {
    "id": "yfH3jHhGikes"
   },
   "outputs": [],
   "source": [
    "## Aplicamos una matriz de ruido gaussiano\n",
    "\n",
    "noise_factor = 0.5 #Factor de ruido\n",
    "# Aplicamos el ruido\n",
    "x_train_noisy = x_train + noise_factor * np.random.normal(loc=0.0, scale=1.0, size=x_train.shape) \n",
    "x_test_noisy = x_test + noise_factor * np.random.normal(loc=0.0, scale=1.0, size=x_test.shape) \n",
    "# Acota los valores entre 0 y 1\n",
    "x_train_noisy = np.clip(x_train_noisy, 0., 1.)\n",
    "x_test_noisy = np.clip(x_test_noisy, 0., 1.)"
   ]
  },
  {
   "cell_type": "code",
   "execution_count": null,
   "metadata": {
    "colab": {
     "base_uri": "https://localhost:8080/",
     "height": 123
    },
    "executionInfo": {
     "elapsed": 46344,
     "status": "ok",
     "timestamp": 1606849662707,
     "user": {
      "displayName": "Carlos Rolon",
      "photoUrl": "https://lh3.googleusercontent.com/a-/AOh14Gizmp3t6NRvUcjYwCq6hYy8NRrPqKvWT_cFnSV-5w=s64",
      "userId": "03396686547516602342"
     },
     "user_tz": 360
    },
    "id": "okUykRGXKDG9",
    "outputId": "638061cd-3401-456c-a63b-7fc234965603"
   },
   "outputs": [
    {
     "data": {
      "image/png": "[encoded data removed]",
      "text/plain": [
       "<Figure size 1440x144 with 10 Axes>"
      ]
     },
     "metadata": {
      "needs_background": "light",
      "tags": []
     },
     "output_type": "display_data"
    }
   ],
   "source": [
    "#Ejemplo de imagenes con ruido\n",
    "\n",
    "n = 10 #Imagenes a mostrar\n",
    "plt.figure(figsize=(20, 2))\n",
    "for i in range(1, n + 1):\n",
    "    ax = plt.subplot(1, n, i)\n",
    "    plt.imshow(x_test_noisy[i].reshape(28, 28))\n",
    "    plt.gray()\n",
    "    ax.get_xaxis().set_visible(False)\n",
    "    ax.get_yaxis().set_visible(False)\n",
    "plt.show()\n"
   ]
  },
  {
   "cell_type": "markdown",
   "metadata": {
    "id": "qPT-mku0jUVZ"
   },
   "source": [
    "## Diseño del modelo"
   ]
  },
  {
   "cell_type": "code",
   "execution_count": null,
   "metadata": {
    "id": "bQdaaE0oLCh5"
   },
   "outputs": [],
   "source": [
    "## CARACTERISTICAS DEL Autoencoder Convolucional\n",
    "\n",
    "#Entrada del autoencoder\n",
    "input_img = keras.Input(shape=(28, 28, 1))\n",
    "\n",
    "# Sección de encoder\n",
    "x = layers.Conv2D(32, (3, 3), activation='relu', padding='same')(input_img)\n",
    "x = layers.MaxPooling2D((2, 2), padding='same')(x)\n",
    "x = layers.Conv2D(32, (3, 3), activation='relu', padding='same')(x)\n",
    "encoded = layers.MaxPooling2D((2, 2), padding='same')(x)\n",
    "\n",
    "# En este punto la representación es (7, 7, 32)\n",
    "\n",
    "# Sección de decoder\n",
    "x = layers.Conv2D(32, (3, 3), activation='relu', padding='same')(encoded)\n",
    "x = layers.UpSampling2D((2, 2))(x)\n",
    "x = layers.Conv2D(32, (3, 3), activation='relu', padding='same')(x)\n",
    "x = layers.UpSampling2D((2, 2))(x)\n",
    "decoded = layers.Conv2D(1, (3, 3), activation='sigmoid', padding='same')(x)\n",
    "\n"
   ]
  },
  {
   "cell_type": "markdown",
   "metadata": {
    "id": "Z8sanwTHkyDZ"
   },
   "source": [
    "## Ejecución del modelo"
   ]
  },
  {
   "cell_type": "code",
   "execution_count": null,
   "metadata": {
    "id": "PVXsoj5Skh5m"
   },
   "outputs": [],
   "source": [
    "# Se construye el modelo\n",
    "autoencoder = keras.Model(input_img, decoded)\n",
    "# Configuraremos nuestro modelo para usar una pérdida de entropía cruzada binaria por píxel y el optimizador de Adam:\n",
    "autoencoder.compile(optimizer='adam', loss='binary_crossentropy')"
   ]
  },
  {
   "cell_type": "code",
   "execution_count": null,
   "metadata": {
    "colab": {
     "base_uri": "https://localhost:8080/"
    },
    "executionInfo": {
     "elapsed": 366990,
     "status": "ok",
     "timestamp": 1606849983369,
     "user": {
      "displayName": "Carlos Rolon",
      "photoUrl": "https://lh3.googleusercontent.com/a-/AOh14Gizmp3t6NRvUcjYwCq6hYy8NRrPqKvWT_cFnSV-5w=s64",
      "userId": "03396686547516602342"
     },
     "user_tz": 360
    },
    "id": "CMYTzTLtKDOn",
    "outputId": "0f75491d-3b4a-4c5c-d668-593b946ff33c"
   },
   "outputs": [
    {
     "name": "stdout",
     "output_type": "stream",
     "text": [
      "Epoch 1/100\n",
      "  1/469 [..............................] - ETA: 0s - loss: 0.6963WARNING:tensorflow:From /usr/local/lib/python3.6/dist-packages/tensorflow/python/ops/summary_ops_v2.py:1277: stop (from tensorflow.python.eager.profiler) is deprecated and will be removed after 2020-07-01.\n",
      "Instructions for updating:\n",
      "use `tf.profiler.experimental.stop` instead.\n",
      "  2/469 [..............................] - ETA: 15s - loss: 0.6834WARNING:tensorflow:Callbacks method `on_train_batch_end` is slow compared to the batch time (batch time: 0.0127s vs `on_train_batch_end` time: 0.0511s). Check your callbacks.\n",
      "469/469 [==============================] - 3s 7ms/step - loss: 0.1748 - val_loss: 0.1200\n",
      "Epoch 2/100\n",
      "469/469 [==============================] - 3s 7ms/step - loss: 0.1149 - val_loss: 0.1099\n",
      "Epoch 3/100\n",
      "469/469 [==============================] - 3s 7ms/step - loss: 0.1081 - val_loss: 0.1052\n",
      "Epoch 4/100\n",
      "469/469 [==============================] - 3s 7ms/step - loss: 0.1052 - val_loss: 0.1033\n",
      "Epoch 5/100\n",
      "469/469 [==============================] - 3s 7ms/step - loss: 0.1034 - val_loss: 0.1020\n",
      "Epoch 6/100\n",
      "469/469 [==============================] - 3s 7ms/step - loss: 0.1021 - val_loss: 0.1010\n",
      "Epoch 7/100\n",
      "469/469 [==============================] - 3s 7ms/step - loss: 0.1011 - val_loss: 0.1001\n",
      "Epoch 8/100\n",
      "469/469 [==============================] - 3s 7ms/step - loss: 0.1004 - val_loss: 0.0992\n",
      "Epoch 9/100\n",
      "469/469 [==============================] - 3s 7ms/step - loss: 0.0996 - val_loss: 0.0985\n",
      "Epoch 10/100\n",
      "469/469 [==============================] - 3s 7ms/step - loss: 0.0991 - val_loss: 0.0981\n",
      "Epoch 11/100\n",
      "469/469 [==============================] - 3s 7ms/step - loss: 0.0986 - val_loss: 0.0975\n",
      "Epoch 12/100\n",
      "469/469 [==============================] - 3s 7ms/step - loss: 0.0982 - val_loss: 0.0971\n",
      "Epoch 13/100\n",
      "469/469 [==============================] - 3s 7ms/step - loss: 0.0978 - val_loss: 0.0969\n",
      "Epoch 14/100\n",
      "469/469 [==============================] - 3s 7ms/step - loss: 0.0975 - val_loss: 0.0966\n",
      "Epoch 15/100\n",
      "469/469 [==============================] - 3s 7ms/step - loss: 0.0971 - val_loss: 0.0963\n",
      "Epoch 16/100\n",
      "469/469 [==============================] - 3s 7ms/step - loss: 0.0969 - val_loss: 0.0963\n",
      "Epoch 17/100\n",
      "469/469 [==============================] - 3s 7ms/step - loss: 0.0967 - val_loss: 0.0958\n",
      "Epoch 18/100\n",
      "469/469 [==============================] - 3s 7ms/step - loss: 0.0965 - val_loss: 0.0959\n",
      "Epoch 19/100\n",
      "469/469 [==============================] - 3s 7ms/step - loss: 0.0963 - val_loss: 0.0956\n",
      "Epoch 20/100\n",
      "469/469 [==============================] - 3s 7ms/step - loss: 0.0961 - val_loss: 0.0955\n",
      "Epoch 21/100\n",
      "469/469 [==============================] - 3s 7ms/step - loss: 0.0960 - val_loss: 0.0954\n",
      "Epoch 22/100\n",
      "469/469 [==============================] - 3s 7ms/step - loss: 0.0958 - val_loss: 0.0953\n",
      "Epoch 23/100\n",
      "469/469 [==============================] - 3s 7ms/step - loss: 0.0957 - val_loss: 0.0951\n",
      "Epoch 24/100\n",
      "469/469 [==============================] - 3s 7ms/step - loss: 0.0956 - val_loss: 0.0950\n",
      "Epoch 25/100\n",
      "469/469 [==============================] - 3s 7ms/step - loss: 0.0955 - val_loss: 0.0950\n",
      "Epoch 26/100\n",
      "469/469 [==============================] - 3s 7ms/step - loss: 0.0954 - val_loss: 0.0948\n",
      "Epoch 27/100\n",
      "469/469 [==============================] - 3s 7ms/step - loss: 0.0953 - val_loss: 0.0951\n",
      "Epoch 28/100\n",
      "469/469 [==============================] - 3s 7ms/step - loss: 0.0953 - val_loss: 0.0948\n",
      "Epoch 29/100\n",
      "469/469 [==============================] - 3s 7ms/step - loss: 0.0951 - val_loss: 0.0946\n",
      "Epoch 30/100\n",
      "469/469 [==============================] - 3s 7ms/step - loss: 0.0951 - val_loss: 0.0947\n",
      "Epoch 31/100\n",
      "469/469 [==============================] - 3s 7ms/step - loss: 0.0950 - val_loss: 0.0948\n",
      "Epoch 32/100\n",
      "469/469 [==============================] - 3s 7ms/step - loss: 0.0950 - val_loss: 0.0945\n",
      "Epoch 33/100\n",
      "469/469 [==============================] - 3s 7ms/step - loss: 0.0949 - val_loss: 0.0946\n",
      "Epoch 34/100\n",
      "469/469 [==============================] - 3s 7ms/step - loss: 0.0948 - val_loss: 0.0947\n",
      "Epoch 35/100\n",
      "469/469 [==============================] - 3s 7ms/step - loss: 0.0948 - val_loss: 0.0944\n",
      "Epoch 36/100\n",
      "469/469 [==============================] - 3s 7ms/step - loss: 0.0948 - val_loss: 0.0944\n",
      "Epoch 37/100\n",
      "469/469 [==============================] - 3s 7ms/step - loss: 0.0947 - val_loss: 0.0943\n",
      "Epoch 38/100\n",
      "469/469 [==============================] - 3s 7ms/step - loss: 0.0947 - val_loss: 0.0945\n",
      "Epoch 39/100\n",
      "469/469 [==============================] - 3s 7ms/step - loss: 0.0946 - val_loss: 0.0943\n",
      "Epoch 40/100\n",
      "469/469 [==============================] - 3s 7ms/step - loss: 0.0946 - val_loss: 0.0946\n",
      "Epoch 41/100\n",
      "469/469 [==============================] - 3s 7ms/step - loss: 0.0946 - val_loss: 0.0943\n",
      "Epoch 42/100\n",
      "469/469 [==============================] - 3s 7ms/step - loss: 0.0945 - val_loss: 0.0941\n",
      "Epoch 43/100\n",
      "469/469 [==============================] - 3s 7ms/step - loss: 0.0945 - val_loss: 0.0941\n",
      "Epoch 44/100\n",
      "469/469 [==============================] - 3s 7ms/step - loss: 0.0944 - val_loss: 0.0946\n",
      "Epoch 45/100\n",
      "469/469 [==============================] - 3s 7ms/step - loss: 0.0944 - val_loss: 0.0940\n",
      "Epoch 46/100\n",
      "469/469 [==============================] - 3s 7ms/step - loss: 0.0944 - val_loss: 0.0941\n",
      "Epoch 47/100\n",
      "469/469 [==============================] - 3s 7ms/step - loss: 0.0943 - val_loss: 0.0941\n",
      "Epoch 48/100\n",
      "469/469 [==============================] - 3s 7ms/step - loss: 0.0943 - val_loss: 0.0945\n",
      "Epoch 49/100\n",
      "469/469 [==============================] - 3s 7ms/step - loss: 0.0943 - val_loss: 0.0944\n",
      "Epoch 50/100\n",
      "469/469 [==============================] - 3s 7ms/step - loss: 0.0943 - val_loss: 0.0946\n",
      "Epoch 51/100\n",
      "469/469 [==============================] - 3s 7ms/step - loss: 0.0942 - val_loss: 0.0941\n",
      "Epoch 52/100\n",
      "469/469 [==============================] - 3s 7ms/step - loss: 0.0942 - val_loss: 0.0940\n",
      "Epoch 53/100\n",
      "469/469 [==============================] - 3s 7ms/step - loss: 0.0942 - val_loss: 0.0940\n",
      "Epoch 54/100\n",
      "469/469 [==============================] - 3s 7ms/step - loss: 0.0942 - val_loss: 0.0940\n",
      "Epoch 55/100\n",
      "469/469 [==============================] - 3s 7ms/step - loss: 0.0942 - val_loss: 0.0942\n",
      "Epoch 56/100\n",
      "469/469 [==============================] - 3s 7ms/step - loss: 0.0942 - val_loss: 0.0940\n",
      "Epoch 57/100\n",
      "469/469 [==============================] - 3s 7ms/step - loss: 0.0941 - val_loss: 0.0939\n",
      "Epoch 58/100\n",
      "469/469 [==============================] - 3s 7ms/step - loss: 0.0941 - val_loss: 0.0940\n",
      "Epoch 59/100\n",
      "469/469 [==============================] - 3s 7ms/step - loss: 0.0941 - val_loss: 0.0941\n",
      "Epoch 60/100\n",
      "469/469 [==============================] - 3s 7ms/step - loss: 0.0941 - val_loss: 0.0940\n",
      "Epoch 61/100\n",
      "469/469 [==============================] - 3s 7ms/step - loss: 0.0940 - val_loss: 0.0940\n",
      "Epoch 62/100\n",
      "469/469 [==============================] - 3s 7ms/step - loss: 0.0940 - val_loss: 0.0939\n",
      "Epoch 63/100\n",
      "469/469 [==============================] - 3s 7ms/step - loss: 0.0940 - val_loss: 0.0938\n",
      "Epoch 64/100\n",
      "469/469 [==============================] - 3s 7ms/step - loss: 0.0940 - val_loss: 0.0938\n",
      "Epoch 65/100\n",
      "469/469 [==============================] - 3s 7ms/step - loss: 0.0940 - val_loss: 0.0939\n",
      "Epoch 66/100\n",
      "469/469 [==============================] - 3s 7ms/step - loss: 0.0939 - val_loss: 0.0938\n",
      "Epoch 67/100\n",
      "469/469 [==============================] - 3s 7ms/step - loss: 0.0939 - val_loss: 0.0939\n",
      "Epoch 68/100\n",
      "469/469 [==============================] - 3s 7ms/step - loss: 0.0940 - val_loss: 0.0939\n",
      "Epoch 69/100\n",
      "469/469 [==============================] - 3s 7ms/step - loss: 0.0939 - val_loss: 0.0939\n",
      "Epoch 70/100\n",
      "469/469 [==============================] - 3s 7ms/step - loss: 0.0939 - val_loss: 0.0940\n",
      "Epoch 71/100\n",
      "469/469 [==============================] - 3s 7ms/step - loss: 0.0939 - val_loss: 0.0938\n",
      "Epoch 72/100\n",
      "469/469 [==============================] - 3s 7ms/step - loss: 0.0939 - val_loss: 0.0938\n",
      "Epoch 73/100\n",
      "469/469 [==============================] - 3s 7ms/step - loss: 0.0939 - val_loss: 0.0937\n",
      "Epoch 74/100\n",
      "469/469 [==============================] - 3s 7ms/step - loss: 0.0939 - val_loss: 0.0937\n",
      "Epoch 75/100\n",
      "469/469 [==============================] - 3s 7ms/step - loss: 0.0939 - val_loss: 0.0937\n",
      "Epoch 76/100\n",
      "469/469 [==============================] - 3s 7ms/step - loss: 0.0938 - val_loss: 0.0936\n",
      "Epoch 77/100\n",
      "469/469 [==============================] - 3s 7ms/step - loss: 0.0938 - val_loss: 0.0938\n",
      "Epoch 78/100\n",
      "469/469 [==============================] - 3s 7ms/step - loss: 0.0938 - val_loss: 0.0938\n",
      "Epoch 79/100\n",
      "469/469 [==============================] - 3s 7ms/step - loss: 0.0938 - val_loss: 0.0937\n",
      "Epoch 80/100\n",
      "469/469 [==============================] - 3s 7ms/step - loss: 0.0938 - val_loss: 0.0939\n",
      "Epoch 81/100\n",
      "469/469 [==============================] - 3s 7ms/step - loss: 0.0938 - val_loss: 0.0937\n",
      "Epoch 82/100\n",
      "469/469 [==============================] - 3s 7ms/step - loss: 0.0938 - val_loss: 0.0937\n",
      "Epoch 83/100\n",
      "469/469 [==============================] - 3s 7ms/step - loss: 0.0937 - val_loss: 0.0937\n",
      "Epoch 84/100\n",
      "469/469 [==============================] - 3s 7ms/step - loss: 0.0937 - val_loss: 0.0936\n",
      "Epoch 85/100\n",
      "469/469 [==============================] - 3s 7ms/step - loss: 0.0937 - val_loss: 0.0941\n",
      "Epoch 86/100\n",
      "469/469 [==============================] - 3s 7ms/step - loss: 0.0937 - val_loss: 0.0938\n",
      "Epoch 87/100\n",
      "469/469 [==============================] - 3s 7ms/step - loss: 0.0937 - val_loss: 0.0937\n",
      "Epoch 88/100\n",
      "469/469 [==============================] - 3s 7ms/step - loss: 0.0937 - val_loss: 0.0938\n",
      "Epoch 89/100\n",
      "469/469 [==============================] - 3s 7ms/step - loss: 0.0937 - val_loss: 0.0937\n",
      "Epoch 90/100\n",
      "469/469 [==============================] - 3s 7ms/step - loss: 0.0937 - val_loss: 0.0939\n",
      "Epoch 91/100\n",
      "469/469 [==============================] - 3s 7ms/step - loss: 0.0937 - val_loss: 0.0939\n",
      "Epoch 92/100\n",
      "469/469 [==============================] - 3s 7ms/step - loss: 0.0937 - val_loss: 0.0936\n",
      "Epoch 93/100\n",
      "469/469 [==============================] - 3s 7ms/step - loss: 0.0937 - val_loss: 0.0938\n",
      "Epoch 94/100\n",
      "469/469 [==============================] - 3s 7ms/step - loss: 0.0936 - val_loss: 0.0936\n",
      "Epoch 95/100\n",
      "469/469 [==============================] - 3s 7ms/step - loss: 0.0936 - val_loss: 0.0936\n",
      "Epoch 96/100\n",
      "469/469 [==============================] - 3s 7ms/step - loss: 0.0936 - val_loss: 0.0935\n",
      "Epoch 97/100\n",
      "469/469 [==============================] - 3s 7ms/step - loss: 0.0936 - val_loss: 0.0936\n",
      "Epoch 98/100\n",
      "469/469 [==============================] - 3s 7ms/step - loss: 0.0937 - val_loss: 0.0936\n",
      "Epoch 99/100\n",
      "469/469 [==============================] - 3s 7ms/step - loss: 0.0936 - val_loss: 0.0936\n",
      "Epoch 100/100\n",
      "469/469 [==============================] - 3s 7ms/step - loss: 0.0936 - val_loss: 0.0936\n"
     ]
    },
    {
     "data": {
      "text/plain": [
       "<tensorflow.python.keras.callbacks.History at 0x7f7afbf3cf28>"
      ]
     },
     "execution_count": 15,
     "metadata": {
      "tags": []
     },
     "output_type": "execute_result"
    }
   ],
   "source": [
    "from keras.callbacks import TensorBoard\n",
    "\n",
    "# Entrenanmiento durante 100 épocas:\n",
    "autoencoder.fit(x_train_noisy, x_train,\n",
    "                epochs=100,\n",
    "                batch_size=128,\n",
    "                shuffle=True,\n",
    "                validation_data=(x_test_noisy, x_test),\n",
    "                callbacks=[TensorBoard(log_dir='/tmp/tb', histogram_freq=0, write_graph=False)])"
   ]
  },
  {
   "cell_type": "markdown",
   "metadata": {
    "id": "HmsIuZBglFED"
   },
   "source": [
    "## Resultados"
   ]
  },
  {
   "cell_type": "code",
   "execution_count": null,
   "metadata": {
    "id": "0pu88PRwT1BY"
   },
   "outputs": [],
   "source": [
    "#Realizamos la prediccion\n",
    "result = autoencoder.predict(x_test_noisy)\n"
   ]
  },
  {
   "cell_type": "code",
   "execution_count": null,
   "metadata": {
    "colab": {
     "base_uri": "https://localhost:8080/",
     "height": 236
    },
    "executionInfo": {
     "elapsed": 1318,
     "status": "ok",
     "timestamp": 1606850070599,
     "user": {
      "displayName": "Carlos Rolon",
      "photoUrl": "https://lh3.googleusercontent.com/a-/AOh14Gizmp3t6NRvUcjYwCq6hYy8NRrPqKvWT_cFnSV-5w=s64",
      "userId": "03396686547516602342"
     },
     "user_tz": 360
    },
    "id": "gG1WkeHpM0YK",
    "outputId": "935c0093-14cf-4a22-bd37-021ce01db87d"
   },
   "outputs": [
    {
     "data": {
      "image/png": "[encoded data removed]",
      "text/plain": [
       "<Figure size 1440x288 with 20 Axes>"
      ]
     },
     "metadata": {
      "needs_background": "light",
      "tags": []
     },
     "output_type": "display_data"
    }
   ],
   "source": [
    "\n",
    "\n",
    "import matplotlib.pyplot as plt\n",
    "\n",
    "n = 10  # Se utiliza la siguiente libreria para visualiar\n",
    "plt.figure(figsize=(20, 4))\n",
    "for i in range(n):\n",
    "    # Imagen original\n",
    "    ax = plt.subplot(2, n, i + 1)\n",
    "    plt.imshow(x_test_noisy[i].reshape(28, 28))\n",
    "    plt.gray()\n",
    "    ax.get_xaxis().set_visible(False)\n",
    "    ax.get_yaxis().set_visible(False)\n",
    "\n",
    "    # Reconstruccion de imagenes\n",
    "    ax = plt.subplot(2, n, i + 1 + n)\n",
    "    plt.imshow(result[i].reshape(28, 28))\n",
    "    plt.gray()\n",
    "    ax.get_xaxis().set_visible(False)\n",
    "    ax.get_yaxis().set_visible(False)\n",
    "plt.show()"
   ]
  }
 ],
 "metadata": {
  "accelerator": "GPU",
  "colab": {
   "collapsed_sections": [],
   "name": "Autoencoder 1 (Imagenes).ipynb",
   "provenance": [
    {
     "file_id": "https://github.com/tensorflow/docs/blob/master/site/en/tutorials/generative/autoencoder.ipynb",
     "timestamp": 1606803806209
    }
   ],
   "toc_visible": true
  },
  "kernelspec": {
   "display_name": "Python 3",
   "language": "python",
   "name": "python3"
  },
  "language_info": {
   "codemirror_mode": {
    "name": "ipython",
    "version": 3
   },
   "file_extension": ".py",
   "mimetype": "text/x-python",
   "name": "python",
   "nbconvert_exporter": "python",
   "pygments_lexer": "ipython3",
   "version": "3.8.3"
  }
 },
 "nbformat": 4,
 "nbformat_minor": 1
}
