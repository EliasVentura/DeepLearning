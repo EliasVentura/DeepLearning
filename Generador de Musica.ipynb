{
 "cells": [
  {
   "cell_type": "markdown",
   "metadata": {},
   "source": [
    "### Generador de musica usando Keras sobre TensorFlow y backend\n",
    "\n",
    "By Elías Jesús Ventura-Molina\n",
    "\n",
    "Proceso:\n",
    "1. Leer un archivo midi, converirlo a una matriz de caracteristicas\n",
    "2. Crear un modelo de LSTM con Keras para aprender los patrones\n",
    "3. Usar una muestra del archivo midi para crear otra melodia\n",
    "4. Guardar la prediccion como un archivo midi\n"
   ]
  },
  {
   "cell_type": "markdown",
   "metadata": {},
   "source": [
    "### Librerias Necesarias\n",
    "\n",
    "Mido para trabajar con archivos midi.    \n",
    "Las capas que se necesitaran son:      \n",
    "1. LSTM\n",
    "2. Dense\n",
    "3. Activation\n",
    "4. Dropout\n",
    "5. Flatten\n",
    "\n",
    "El modelo de la red será secuencial"
   ]
  },
  {
   "cell_type": "code",
   "execution_count": 1,
   "metadata": {},
   "outputs": [
    {
     "name": "stderr",
     "output_type": "stream",
     "text": [
      "Using TensorFlow backend.\n"
     ]
    }
   ],
   "source": [
    "import mido\n",
    "from mido import MidiFile, MidiTrack, Message\n",
    "from keras.layers import LSTM, Dense, Activation, Dropout, Flatten\n",
    "from keras.preprocessing import sequence\n",
    "from keras.models import Sequential\n",
    "from keras.optimizers import Adam\n",
    "from keras.callbacks import ModelCheckpoint\n",
    "from sklearn.preprocessing import MinMaxScaler\n",
    "import numpy as np"
   ]
  },
  {
   "cell_type": "markdown",
   "metadata": {},
   "source": [
    "##### Leer el archivo midi\n",
    "\n",
    "Canción de Pokemon"
   ]
  },
  {
   "cell_type": "code",
   "execution_count": 2,
   "metadata": {},
   "outputs": [],
   "source": [
    "mid = MidiFile('Samples/Nintendo_-_Pokemon_Fire_Red_Route_1_Piano_Cover_Hard_Version.mid') "
   ]
  },
  {
   "cell_type": "markdown",
   "metadata": {},
   "source": [
    "##### Extraer las notas de la secuencia\n",
    "\n",
    "Se le llama secuencia a la cancion, ya que es una secuencia de notas a traves del tiempo.\n",
    "Los archivos midi estan compuestos por pisas, cada pista contiene una lista de mensajes y meta mensajes con el tiempo como atributo."
   ]
  },
  {
   "cell_type": "code",
   "execution_count": 3,
   "metadata": {},
   "outputs": [],
   "source": [
    "notes = []\n",
    "for msg in mid:\n",
    "    if not msg.is_meta and msg.channel == 0 and msg.type == 'note_on':\n",
    "        data = msg.bytes()\n",
    "        notes.append(data[1])"
   ]
  },
  {
   "cell_type": "markdown",
   "metadata": {},
   "source": [
    "#### Aplicar min-max scalling\n",
    "\n",
    "Sirve para normalizar los datos "
   ]
  },
  {
   "cell_type": "code",
   "execution_count": 4,
   "metadata": {},
   "outputs": [],
   "source": [
    "scaler = MinMaxScaler(feature_range=(0,1))\n",
    "scaler.fit(np.array(notes).reshape(-1,1))\n",
    "notes = list(scaler.transform(np.array(notes).reshape(-1,1)))"
   ]
  },
  {
   "cell_type": "markdown",
   "metadata": {},
   "source": [
    "#### Preparar los datos para entrenar y sacar una muestra para realizar predicciones"
   ]
  },
  {
   "cell_type": "code",
   "execution_count": 5,
   "metadata": {},
   "outputs": [],
   "source": [
    "# Las capas LSTM necesitan que los datos tengan un tamaño especifico\n",
    "# crear una lista de listas\n",
    "notes = [list(note) for note in notes]\n",
    "\n",
    "# muestras para entrenamiento y predicción\n",
    "X = []\n",
    "y = []\n",
    "# numero de notas por lote\n",
    "n_prev = 30\n",
    "for i in range(len(notes)-n_prev):\n",
    "    X.append(notes[i:i+n_prev])\n",
    "    y.append(notes[i+n_prev])\n",
    "# guardar una semilla para realizar predicciones\n",
    "X_test = X[-300:]\n",
    "X = X[:-300]\n",
    "y = y[:-300]"
   ]
  },
  {
   "cell_type": "markdown",
   "metadata": {},
   "source": [
    "#### Modelo\n",
    "\n",
    "Añadir las capas necesarias al modelo, las capas LSTM son dependientes del tiempo      \n",
    "Guardar checkpoints      \n",
    "Documentacion de capas LSTM: https://keras.io/api/layers/recurrent_layers/lstm/"
   ]
  },
  {
   "cell_type": "code",
   "execution_count": 11,
   "metadata": {},
   "outputs": [],
   "source": [
    "model = Sequential()\n",
    "model.add(LSTM(256, input_shape=(n_prev, 1), return_sequences=True))\n",
    "model.add(Dropout(0.5))\n",
    "model.add(LSTM(128, input_shape=(n_prev, 1), return_sequences=True))\n",
    "model.add(Dropout(0.5))\n",
    "model.add(LSTM(64, input_shape=(n_prev, 1), return_sequences=False))\n",
    "model.add(Dropout(0.5))\n",
    "model.add(Dense(1))\n",
    "model.add(Activation('linear'))\n",
    "optimizer = Adam(lr=0.001)\n",
    "model.compile(loss='mse', optimizer=optimizer)\n",
    "\n",
    "# Carpeta donde se guardara el checkpoint cada 5 epocas\n",
    "\n",
    "filepath=\"./Checkpoints/checkpoint_model_{epoch:02d}.hdf5\"\n",
    "model_save_callback = ModelCheckpoint(filepath, monitor='val_acc', \n",
    "                                      verbose=1, save_best_only=False, \n",
    "                                      mode='auto', period=5)"
   ]
  },
  {
   "cell_type": "markdown",
   "metadata": {},
   "source": [
    "#### Entrenamiento\n"
   ]
  },
  {
   "cell_type": "code",
   "execution_count": 12,
   "metadata": {},
   "outputs": [
    {
     "name": "stdout",
     "output_type": "stream",
     "text": [
      "Epoch 1/10\n",
      "12770/12770 [==============================] - 39s 3ms/step - loss: 0.0504\n",
      "Epoch 2/10\n",
      "12770/12770 [==============================] - 38s 3ms/step - loss: 0.0463\n",
      "Epoch 3/10\n",
      "12770/12770 [==============================] - 39s 3ms/step - loss: 0.0448\n",
      "Epoch 4/10\n",
      "12770/12770 [==============================] - 38s 3ms/step - loss: 0.0420\n",
      "Epoch 5/10\n",
      "12770/12770 [==============================] - 39s 3ms/step - loss: 0.0317\n",
      "\n",
      "Epoch 00005: saving model to ./Checkpoints/checkpoint_model_05.hdf5\n",
      "Epoch 6/10\n",
      "12770/12770 [==============================] - 38s 3ms/step - loss: 0.0257\n",
      "Epoch 7/10\n",
      "12770/12770 [==============================] - 39s 3ms/step - loss: 0.0220\n",
      "Epoch 8/10\n",
      "12770/12770 [==============================] - 39s 3ms/step - loss: 0.0195\n",
      "Epoch 9/10\n",
      "12770/12770 [==============================] - 40s 3ms/step - loss: 0.0166\n",
      "Epoch 10/10\n",
      "12770/12770 [==============================] - 38s 3ms/step - loss: 0.0120\n",
      "\n",
      "Epoch 00010: saving model to ./Checkpoints/checkpoint_model_10.hdf5\n"
     ]
    },
    {
     "data": {
      "text/plain": [
       "<keras.callbacks.callbacks.History at 0x2244bc97f88>"
      ]
     },
     "execution_count": 12,
     "metadata": {},
     "output_type": "execute_result"
    }
   ],
   "source": [
    "model.fit(np.array(X), np.array(y), 32, 10, verbose=1, callbacks=[model_save_callback])"
   ]
  },
  {
   "cell_type": "markdown",
   "metadata": {},
   "source": [
    "#### Realizar predicciones"
   ]
  },
  {
   "cell_type": "code",
   "execution_count": 13,
   "metadata": {},
   "outputs": [],
   "source": [
    "prediction = model.predict(np.array(X_test))\n",
    "prediction = np.squeeze(prediction)\n",
    "prediction = np.squeeze(scaler.inverse_transform(prediction.reshape(-1,1)))\n",
    "prediction = [int(i) for i in prediction]"
   ]
  },
  {
   "cell_type": "markdown",
   "metadata": {},
   "source": [
    "#### Guardar la prediccion como un archivo midi"
   ]
  },
  {
   "cell_type": "code",
   "execution_count": 14,
   "metadata": {},
   "outputs": [],
   "source": [
    "mid = MidiFile()\n",
    "track = MidiTrack()\n",
    "t = 0\n",
    "for note in prediction:\n",
    "    # 147 significa note_on\n",
    "    # 50 es la velocidad\n",
    "    note = np.asarray([147, note, 50])\n",
    "    bytes = note.astype(int)\n",
    "    msg = Message.from_bytes(bytes[0:3])\n",
    "    t += 1\n",
    "    msg.time = t\n",
    "    track.append(msg)\n",
    "mid.tracks.append(track)\n",
    "mid.save('LSTM_music.mid')"
   ]
  },
  {
   "cell_type": "code",
   "execution_count": null,
   "metadata": {},
   "outputs": [],
   "source": []
  }
 ],
 "metadata": {
  "kernelspec": {
   "display_name": "Python 3",
   "language": "python",
   "name": "python3"
  },
  "language_info": {
   "codemirror_mode": {
    "name": "ipython",
    "version": 3
   },
   "file_extension": ".py",
   "mimetype": "text/x-python",
   "name": "python",
   "nbconvert_exporter": "python",
   "pygments_lexer": "ipython3",
   "version": "3.8.3"
  }
 },
 "nbformat": 4,
 "nbformat_minor": 2
}
