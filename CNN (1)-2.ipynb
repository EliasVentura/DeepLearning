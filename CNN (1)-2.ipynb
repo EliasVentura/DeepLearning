{
 "cells": [
  {
   "cell_type": "markdown",
   "metadata": {},
   "source": [
    "### Librerias Importantes\n",
    "\n",
    "By Elías Jesús Ventura-Molina\n",
    "\n",
    "Modelos en Keras: https://keras.io/api/models/    \n",
    "\n",
    "Capas en Keras: https://keras.io/api/layers/    \n",
    "\n",
    "Importar bancos de datos desde Keras: https://keras.io/api/datasets/      \n",
    "El banco de datos Mnist contiene imagenes de 28x28 pixeles. 60,000 son de entrenamiento y 10,000 de prueba"
   ]
  },
  {
   "cell_type": "code",
   "execution_count": 5,
   "metadata": {},
   "outputs": [],
   "source": [
    "# Para implementar un modelo secuencial, documentacion:\n",
    "from tensorflow.keras.models import Sequential\n",
    "\n",
    "# Capas que se utilizaran, si no se sabe que capas se utilizaran, importar todas \n",
    "from tensorflow.keras.layers import Dense, Flatten, Convolution2D, MaxPooling2D, Dropout\n",
    "\n",
    "# Importar un banco de datos desde Keras\n",
    "from tensorflow.keras.datasets import mnist\n",
    "\n",
    "# Optimizador\n",
    "from tensorflow.keras.optimizers import RMSprop\n",
    "\n",
    "# Keras sobre Tensorflow\n",
    "from tensorflow.keras import backend as K\n",
    "\n",
    "# Onehot -> Categorico\n",
    "from tensorflow.keras.utils import to_categorical\n",
    "\n",
    "# Matriz de confusion y reporte\n",
    "from sklearn.metrics import classification_report, confusion_matrix\n",
    "\n",
    "import numpy as np"
   ]
  },
  {
   "cell_type": "markdown",
   "metadata": {},
   "source": [
    "### Parametros importantes"
   ]
  },
  {
   "cell_type": "code",
   "execution_count": 6,
   "metadata": {},
   "outputs": [],
   "source": [
    "# Tamaño del lote de parametros que seran propagados en la red \n",
    "batch_size = 128\n",
    "\n",
    "# Numero de clases\n",
    "nb_classes = 10\n",
    "\n",
    "# Numero de epocas\n",
    "nb_epoch = 10\n",
    "\n",
    "img_rows, img_cols = 28, 28         # Tamaño de las imagenes\n",
    "pool_size = (2, 2)                  # tamaño del filtro de las capas de pooling\n",
    "prob_drop_conv = 0.2                # Probabilidad de dropout en capas convolucionales\n",
    "prob_drop_hidden = 0.5              # Probabilidad de dropout en capas densas\n",
    "\n",
    "# Tamaño de entrada para la primer capa convolucional\n",
    "input_shape = (img_rows, img_cols, 1)"
   ]
  },
  {
   "cell_type": "code",
   "execution_count": 8,
   "metadata": {},
   "outputs": [
    {
     "name": "stdout",
     "output_type": "stream",
     "text": [
      "X_train original shape: (60000, 28, 28)\n",
      "X_train shape: (60000, 28, 28, 1)\n",
      "60000 train samples\n",
      "10000 test samples\n"
     ]
    }
   ],
   "source": [
    "# Cargar el banco de datos, los conjuntos de entrenamiento y prueba ya estan definidos\n",
    "(X_train, y_train), (X_test, y_test) = mnist.load_data()\n",
    "print('X_train original shape:', X_train.shape)\n",
    "\n",
    "# Backend\n",
    "if K.image_data_format() == 'th':\n",
    "    # Para Theano\n",
    "    X_train = X_train.reshape(X_train.shape[0], 1, img_rows, img_cols)\n",
    "    X_test = X_test.reshape(X_test.shape[0], 1, img_rows, img_cols)\n",
    "    input_shape = (1, img_rows, img_cols)\n",
    "else:\n",
    "    # Para TensorFlow\n",
    "    X_train = X_train.reshape(X_train.shape[0], img_rows, img_cols, 1)\n",
    "    X_test = X_test.reshape(X_test.shape[0], img_rows, img_cols, 1)\n",
    "    input_shape = (img_rows, img_cols, 1)\n",
    "\n",
    "\n",
    "\n",
    "# Rasgos de todos los patrones de entrenamiento\n",
    "X_train = X_train.astype('float32') / 255.\n",
    "\n",
    "# Rasgos de todos los patrones de prueba\n",
    "X_test = X_test.astype('float32') / 255.\n",
    "\n",
    "# Clases de todos los patrones de entrenamiento\n",
    "Y_train = to_categorical(y_train, nb_classes)\n",
    "# Clases de todos los patrones de prueba\n",
    "\n",
    "Y_test = to_categorical(y_test, nb_classes)\n",
    "\n",
    "print('X_train shape:', X_train.shape)\n",
    "print(X_train.shape[0], 'train samples')\n",
    "print(X_test.shape[0], 'test samples')"
   ]
  },
  {
   "cell_type": "markdown",
   "metadata": {},
   "source": [
    "### Modelo de la Red Neuronal Convolucional\n",
    "\n",
    "En esta sección se define la arquitectura de la red neuronal convolucional.   \n",
    "\n",
    "Tipos de modelos: https://www.pyimagesearch.com/2019/10/28/3-ways-to-create-a-keras-model-with-tensorflow-2-0-sequential-functional-and-model-subclassing/   \n",
    "\n",
    "Una capa convolucional 2D utiliza filtros en dos dimensiones, una 3D utiliza filtros en tres dimensiones.    \n",
    "Para imegenes RGB se pueden usar los dos tipos de capas, si se usa 2D, el filtro pasara por los tres canales de color con los mismos pesos, se se desea usar pesos especificos para cada canal de color, se debe usar una capa 3D.\n",
    "\n",
    "Parametros que se pueden ajustar en una capa convolucional 2D: https://keras.io/api/layers/convolution_layers/convolution2d/\n",
    "\n",
    "Parametros que se pueden ajustar en una capa MaxPooling: https://keras.io/api/layers/pooling_layers/max_pooling2d/\n",
    "\n",
    "Parametros que se pueden ajustar en una capa Densa: https://keras.io/api/layers/core_layers/dense/\n",
    "\n",
    "Optimizadores:    \n",
    "¿Qué es un optimizador?: https://algorithmia.com/blog/introduction-to-optimizers    \n",
    "Optimizadores en Keras: https://keras.io/api/optimizers/\n",
    "\n",
    "Loss Function:    \n",
    "¿Qué es y como escogerla?: https://machinelearningmastery.com/how-to-choose-loss-functions-when-training-deep-learning-neural-networks/   \n",
    "Loss Function en Keras: https://keras.io/api/losses/    \n",
    "\n",
    "Padding: https://www.aprenderaprogramar.com/index.php?option=com_content&view=article&id=732:concepto-de-margen-y-relleno-css-diferencias-entre-margin-y-padding-css-box-model-ejemplos-cu01028d&catid=75&Itemid=203"
   ]
  },
  {
   "cell_type": "code",
   "execution_count": 9,
   "metadata": {},
   "outputs": [
    {
     "name": "stdout",
     "output_type": "stream",
     "text": [
      "Model: \"sequential\"\n",
      "_________________________________________________________________\n",
      "Layer (type)                 Output Shape              Param #   \n",
      "=================================================================\n",
      "conv2d (Conv2D)              (None, 10, 10, 32)        320       \n",
      "_________________________________________________________________\n",
      "max_pooling2d (MaxPooling2D) (None, 5, 5, 32)          0         \n",
      "_________________________________________________________________\n",
      "dropout (Dropout)            (None, 5, 5, 32)          0         \n",
      "_________________________________________________________________\n",
      "conv2d_1 (Conv2D)            (None, 2, 2, 64)          18496     \n",
      "_________________________________________________________________\n",
      "max_pooling2d_1 (MaxPooling2 (None, 1, 1, 64)          0         \n",
      "_________________________________________________________________\n",
      "dropout_1 (Dropout)          (None, 1, 1, 64)          0         \n",
      "_________________________________________________________________\n",
      "conv2d_2 (Conv2D)            (None, 1, 1, 128)         73856     \n",
      "_________________________________________________________________\n",
      "max_pooling2d_2 (MaxPooling2 (None, 1, 1, 128)         0         \n",
      "_________________________________________________________________\n",
      "flatten (Flatten)            (None, 128)               0         \n",
      "_________________________________________________________________\n",
      "dropout_2 (Dropout)          (None, 128)               0         \n",
      "_________________________________________________________________\n",
      "dense (Dense)                (None, 625)               80625     \n",
      "_________________________________________________________________\n",
      "dropout_3 (Dropout)          (None, 625)               0         \n",
      "_________________________________________________________________\n",
      "dense_1 (Dense)              (None, 10)                6260      \n",
      "=================================================================\n",
      "Total params: 179,557\n",
      "Trainable params: 179,557\n",
      "Non-trainable params: 0\n",
      "_________________________________________________________________\n"
     ]
    }
   ],
   "source": [
    "# Definir cual es el tipo de modelo: \n",
    "model = Sequential()\n",
    "\n",
    "# Primera Capa convolucional\n",
    "model.add(Convolution2D(32, 3, 3, padding='same', activation='relu', input_shape=input_shape))\n",
    "# El tamaño del filtro o kernel fue definido anteriormente\n",
    "model.add(MaxPooling2D(pool_size=pool_size, strides=(2,2), padding='same'))\n",
    "model.add(Dropout(prob_drop_conv))\n",
    "\n",
    "# Segunda capa convolucional\n",
    "model.add(Convolution2D(64, 3, 3, padding='same', activation='relu'))\n",
    "model.add(MaxPooling2D(pool_size=pool_size, strides=(2,2), padding='same'))\n",
    "model.add(Dropout(prob_drop_conv))\n",
    "\n",
    "# Tercera capa convolucional\n",
    "model.add(Convolution2D(128, 3, 3, padding='same', activation='relu'))\n",
    "model.add(MaxPooling2D(pool_size=pool_size, strides=(2,2), padding='same'))\n",
    "# Flatten es utilizado para \"aplanar\" la salida de las capas convolucionales, pasar de array\n",
    "# multidimensional a unidimensional\n",
    "model.add(Flatten())\n",
    "model.add(Dropout(prob_drop_conv))\n",
    "\n",
    "# Primer capa oculta densa\n",
    "# Se dice que es capa oculta y no de entrada porque Keras crea automaticamente la capa densa de\n",
    "# entrada basado en la salida de Flatten\n",
    "model.add(Dense(625, activation='relu'))\n",
    "model.add(Dropout(prob_drop_hidden))\n",
    "\n",
    "# Segunda capa saida densa\n",
    "model.add(Dense(10, activation='softmax'))\n",
    "\n",
    "# Optimizador\n",
    "opt = RMSprop(lr=0.001, rho=0.9)\n",
    "\n",
    "# Compilar el modelo\n",
    "model.compile(optimizer=opt, loss='categorical_crossentropy', metrics=['accuracy'])\n",
    "\n",
    "# Sirve para ver de forma general la arquitectura de la red y conocer el numero de parametros\n",
    "#generados\n",
    "model.summary()"
   ]
  },
  {
   "cell_type": "markdown",
   "metadata": {},
   "source": [
    "### Entrenamiento\n",
    "\n",
    "En esta fase se pueden usar las clases en forma One hot o en forma categorica.\n",
    "Convertirlos a forma categorica para poder hacer la matriz de confusión"
   ]
  },
  {
   "cell_type": "code",
   "execution_count": 10,
   "metadata": {},
   "outputs": [
    {
     "name": "stdout",
     "output_type": "stream",
     "text": [
      "Train on 60000 samples\n",
      "Epoch 1/10\n",
      "60000/60000 [==============================] - 9s 149us/sample - loss: 0.8595 - accuracy: 0.7034\n",
      "Epoch 2/10\n",
      "60000/60000 [==============================] - 2s 34us/sample - loss: 0.4133 - accuracy: 0.8675\n",
      "Epoch 3/10\n",
      "60000/60000 [==============================] - 2s 34us/sample - loss: 0.3151 - accuracy: 0.9005\n",
      "Epoch 4/10\n",
      "60000/60000 [==============================] - 2s 34us/sample - loss: 0.2654 - accuracy: 0.9166\n",
      "Epoch 5/10\n",
      "60000/60000 [==============================] - 2s 35us/sample - loss: 0.2360 - accuracy: 0.9254\n",
      "Epoch 6/10\n",
      "60000/60000 [==============================] - 2s 34us/sample - loss: 0.2189 - accuracy: 0.9307\n",
      "Epoch 7/10\n",
      "60000/60000 [==============================] - 2s 34us/sample - loss: 0.2099 - accuracy: 0.9345\n",
      "Epoch 8/10\n",
      "60000/60000 [==============================] - 2s 34us/sample - loss: 0.2003 - accuracy: 0.9380\n",
      "Epoch 9/10\n",
      "60000/60000 [==============================] - 2s 34us/sample - loss: 0.1927 - accuracy: 0.9397\n",
      "Epoch 10/10\n",
      "60000/60000 [==============================] - 2s 35us/sample - loss: 0.1852 - accuracy: 0.9424\n"
     ]
    }
   ],
   "source": [
    "train_labels = to_categorical(Y_train)\n",
    "test_labels = to_categorical(Y_test)\n",
    "\n",
    "history = model.fit(X_train, Y_train, epochs=nb_epoch, batch_size=batch_size, shuffle=True, verbose=1)\n"
   ]
  },
  {
   "cell_type": "markdown",
   "metadata": {},
   "source": [
    "### Prueba\n",
    "\n",
    "model.evaluate predice la salida y calcula la metrica especificada en model.compile    \n",
    "model.predict solo predice la salida"
   ]
  },
  {
   "cell_type": "code",
   "execution_count": 11,
   "metadata": {},
   "outputs": [
    {
     "name": "stdout",
     "output_type": "stream",
     "text": [
      "10000/10000 [==============================] - 0s 34us/sample - loss: 0.1018 - accuracy: 0.9673\n",
      "Accuracy: 0.967\n"
     ]
    }
   ],
   "source": [
    "evaluation = model.evaluate(X_test, Y_test, batch_size=256, verbose=1)\n",
    "print('Accuracy: %.3f' % (evaluation[1]))"
   ]
  },
  {
   "cell_type": "markdown",
   "metadata": {},
   "source": [
    "### Matriz de confusión & Reporte\n",
    "\n",
    "Se necesita tener las clases en forma categorica"
   ]
  },
  {
   "cell_type": "code",
   "execution_count": 12,
   "metadata": {},
   "outputs": [
    {
     "name": "stdout",
     "output_type": "stream",
     "text": [
      "                  Matriz de Confusion\n",
      "\n",
      "\n",
      "[[ 967    0    0    0    2    2    2    1    6    0]\n",
      " [   0 1119    2    4    1    1    3    0    5    0]\n",
      " [   9    0 1001    2    3    0    0    7    9    1]\n",
      " [   0    2    4  941    0   26    1    7   26    3]\n",
      " [   0    1    0    0  959    0    8    2    2   10]\n",
      " [   5    0    0    7    0  860    9    0    9    2]\n",
      " [   4    3    0    0    4    3  941    0    3    0]\n",
      " [   2    7   12    3    5    0    0  986    4    9]\n",
      " [   5    1    2    2    5    6    4    1  941    7]\n",
      " [   6    3    1    3   14    5    1    8   10  958]]\n",
      "\n",
      "\n",
      "\n",
      "\n",
      "\n",
      "\n",
      "                      Reporte de Clasificacion\n",
      "\n",
      "\n",
      "              precision    recall  f1-score   support\n",
      "\n",
      "           1       0.97      0.99      0.98       980\n",
      "           2       0.99      0.99      0.99      1135\n",
      "           3       0.98      0.97      0.97      1032\n",
      "           4       0.98      0.93      0.95      1010\n",
      "           5       0.97      0.98      0.97       982\n",
      "           6       0.95      0.96      0.96       892\n",
      "           7       0.97      0.98      0.98       958\n",
      "           8       0.97      0.96      0.97      1028\n",
      "           9       0.93      0.97      0.95       974\n",
      "          10       0.97      0.95      0.96      1009\n",
      "\n",
      "    accuracy                           0.97     10000\n",
      "   macro avg       0.97      0.97      0.97     10000\n",
      "weighted avg       0.97      0.97      0.97     10000\n",
      "\n"
     ]
    }
   ],
   "source": [
    "rounded_predictions = model.predict_classes(X_test, batch_size=256, verbose=0)\n",
    "rounded_labels = np.argmax(Y_test, axis=1)\n",
    "\n",
    "cm = confusion_matrix(rounded_labels, rounded_predictions)\n",
    "print('                  Matriz de Confusion')\n",
    "print('\\n')\n",
    "print(cm)\n",
    "\n",
    "print('\\n')\n",
    "print('\\n')\n",
    "print('\\n')\n",
    "print('                      Reporte de Clasificacion')\n",
    "print('\\n')\n",
    "target_names = ['1', '2', '3', '4','5','6','7','8','9','10']\n",
    "print(classification_report(rounded_labels, rounded_predictions, target_names=target_names))"
   ]
  },
  {
   "cell_type": "code",
   "execution_count": null,
   "metadata": {},
   "outputs": [],
   "source": []
  }
 ],
 "metadata": {
  "kernelspec": {
   "display_name": "Python 3",
   "language": "python",
   "name": "python3"
  },
  "language_info": {
   "codemirror_mode": {
    "name": "ipython",
    "version": 3
   },
   "file_extension": ".py",
   "mimetype": "text/x-python",
   "name": "python",
   "nbconvert_exporter": "python",
   "pygments_lexer": "ipython3",
   "version": "3.8.3"
  }
 },
 "nbformat": 4,
 "nbformat_minor": 4
}
